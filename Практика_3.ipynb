{
  "nbformat": 4,
  "nbformat_minor": 0,
  "metadata": {
    "colab": {
      "name": "Практика 3",
      "provenance": [],
      "authorship_tag": "ABX9TyMCEM1vWuJzR2TVX4xkmTYb",
      "include_colab_link": true
    },
    "kernelspec": {
      "name": "python3",
      "display_name": "Python 3"
    }
  },
  "cells": [
    {
      "cell_type": "markdown",
      "metadata": {
        "id": "view-in-github",
        "colab_type": "text"
      },
      "source": [
        "<a href=\"https://colab.research.google.com/github/Ivanova-Daria/visual-studio/blob/master/%D0%9F%D1%80%D0%B0%D0%BA%D1%82%D0%B8%D0%BA%D0%B0_3.ipynb\" target=\"_parent\"><img src=\"https://colab.research.google.com/assets/colab-badge.svg\" alt=\"Open In Colab\"/></a>"
      ]
    },
    {
      "cell_type": "markdown",
      "metadata": {
        "id": "SZg8nUSmR06N"
      },
      "source": [
        "Иванова Дарья, Вариан №5"
      ]
    },
    {
      "cell_type": "markdown",
      "metadata": {
        "id": "2WReuNr8wJL9"
      },
      "source": [
        "![Схема наследования классов.png](data:image/png;base64,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)"
      ]
    },
    {
      "cell_type": "code",
      "metadata": {
        "id": "8C-WRoC-Fp4H"
      },
      "source": [
        ""
      ],
      "execution_count": null,
      "outputs": []
    },
    {
      "cell_type": "code",
      "metadata": {
        "id": "2S7S0na1Rt9c"
      },
      "source": [
        "class Organization:\n",
        "  def __init__(self, k, n):\n",
        "    self.kodd = k\n",
        "    self.name = n\n",
        "class Insurance(Organization):\n",
        "  def __init__(self, k, n, p):\n",
        "    priseformonth = p\n",
        "    super().__init__(k, n)\n",
        "  def prise(self, m):\n",
        "    self.monthnumber=m\n",
        "    return self.priseformonth*self.monthnumber\n",
        "class Oil(Organization):\n",
        "  def __init__(self, k, n, s):\n",
        "    self.spec = s\n",
        "    super().__init__(k, n)\n",
        "  \n",
        "class Plant(Oil):\n",
        "  def __init__(self,k, n, s, b):\n",
        "    self.barrelnumber = b\n",
        "    super().__init__(k, n, s)\n",
        "  def prise(self,d):\n",
        "    self.dollarrate = d\n",
        "    return 45*self.barrelnumber*self.dollarrate\n",
        "\n",
        "\n"
      ],
      "execution_count": null,
      "outputs": []
    },
    {
      "cell_type": "code",
      "metadata": {
        "colab": {
          "base_uri": "https://localhost:8080/"
        },
        "id": "sTyjcGMZWud1",
        "outputId": "142124b0-3f7a-4ab4-bc54-54bd74c13a0d"
      },
      "source": [
        "q1 = Organization(\"ООО\",\"Звезда\")\r\n",
        "q2 = Oil(\"ОАО\", \"Русснефть\", \"добыча нефти\")\r\n",
        "q3 = Plant(\"ПАО\",\"Эконавеки\", \"переработка\", int(input(\"Введите колличество баррлей нефти: \")))\r\n",
        "print(q1.kodd, q1.name)\r\n",
        "print(q2.kodd, q2.name,\"специализация -\", q2.spec)\r\n",
        "print(q3.kodd, q3.name, \"специализация -\", q3.spec, \"\\n{} баррлей нефти можно купть за {} рублей\".format(q3.barrelnumber, q3.prise(int(input(\"Введите курс доллара: \")))))"
      ],
      "execution_count": null,
      "outputs": [
        {
          "output_type": "stream",
          "text": [
            "Введите колличество баррлей нефти: 9\n",
            "ООО Звезда\n",
            "ОАО Русснефть специализация - добыча нефти\n",
            "Введите курс доллара: 78\n",
            "ПАО Эконавеки специализация - переработка \n",
            "9 баррлей нефти можно купть за 31590 рублей\n"
          ],
          "name": "stdout"
        }
      ]
    }
  ]
}